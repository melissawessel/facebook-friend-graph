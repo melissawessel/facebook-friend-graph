{
 "cells": [
  {
   "cell_type": "markdown",
   "metadata": {},
   "source": [
    "## Apply dispersion alg"
   ]
  },
  {
   "cell_type": "code",
   "execution_count": 6,
   "metadata": {},
   "outputs": [],
   "source": [
    "import networkx as nx\n",
    "import pickle\n",
    "import numpy as np\n",
    "\n",
    "import dispersion\n",
    "\n",
    "# This is your Facebook id. It can also be a number\n",
    "CENTRAL_ID = 'yourfacebookid'\n",
    "\n",
    "# This is the pickle file containing the raw graph data\n",
    "GRAPH_FILENAME = 'friend_graph.pickle'"
   ]
  },
  {
   "cell_type": "code",
   "execution_count": 7,
   "metadata": {},
   "outputs": [],
   "source": [
    "with open(GRAPH_FILENAME, 'rb') as f:\n",
    "    friend_graph = pickle.load(f)"
   ]
  },
  {
   "cell_type": "code",
   "execution_count": 8,
   "metadata": {},
   "outputs": [
    {
     "name": "stdout",
     "output_type": "stream",
     "text": [
      "Firtered out 247 items\n"
     ]
    }
   ],
   "source": [
    "edges = []\n",
    "nodes = [CENTRAL_ID]\n",
    "\n",
    "# Only keep friends with at least 2 common friends\n",
    "central_friends = {}\n",
    "\n",
    "for k, v in friend_graph.items():\n",
    "    # This contains the list number of mutual friends.\n",
    "    # Doing len(v) does not work because sometimes instead of returning mutual\n",
    "    # friends, Facebook returns all the person's friends\n",
    "    intersection_size = len(np.intersect1d(list(friend_graph.keys()), v))\n",
    "    if intersection_size > 2:\n",
    "        central_friends[k] = v\n",
    "        \n",
    "print('Firtered out {} items'.format(len(friend_graph.keys()) - len(central_friends.keys())))\n",
    "\n",
    "# Extract edges from graph\n",
    "for k, v in central_friends.items():\n",
    "    for item in v:\n",
    "        if item in central_friends.keys() or item == CENTRAL_ID:\n",
    "            edges.append((k, item))\n",
    "\n"
   ]
  },
  {
   "cell_type": "code",
   "execution_count": 9,
   "metadata": {},
   "outputs": [],
   "source": [
    "G = nx.Graph()\n",
    "G.add_nodes_from([CENTRAL_ID])\n",
    "G.add_nodes_from(central_friends.keys())\n",
    "G.add_edges_from(edges)"
   ]
  },
  {
   "cell_type": "code",
   "execution_count": null,
   "metadata": {},
   "outputs": [],
   "source": [
    "dispersion.ordered_friends(G)"
   ]
  },
  {
   "cell_type": "code",
   "execution_count": null,
   "metadata": {},
   "outputs": [],
   "source": []
  }
 ],
 "metadata": {
  "kernelspec": {
   "display_name": "Python 3",
   "language": "python",
   "name": "python3"
  },
  "language_info": {
   "codemirror_mode": {
    "name": "ipython",
    "version": 3
   },
   "file_extension": ".py",
   "mimetype": "text/x-python",
   "name": "python",
   "nbconvert_exporter": "python",
   "pygments_lexer": "ipython3",
   "version": "3.6.4"
  }
 },
 "nbformat": 4,
 "nbformat_minor": 2
}
